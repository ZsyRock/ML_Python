{
 "cells": [
  {
   "cell_type": "code",
   "execution_count": 3,
   "id": "76be91ed",
   "metadata": {},
   "outputs": [
    {
     "name": "stdout",
     "output_type": "stream",
     "text": [
      "iris_y_predict = [1 2 1 0 0 0 2 1 2 0]\n",
      "iris_y_test = [1 1 1 0 0 0 2 1 2 0]\n",
      "Accuracy: 0.9\n"
     ]
    }
   ],
   "source": [
    "from sklearn import datasets\n",
    "from sklearn.naive_bayes import GaussianNB ## Bayesian Gaussian distribution\n",
    "import numpy as np\n",
    "np.random.seed(0)\n",
    "iris = datasets.load_iris()\n",
    "iris_x = iris.data\n",
    "iris_y = iris.target\n",
    "indices = np.random.permutation(len(iris_x))\n",
    "iris_x_train = iris_x[indices[:-10]]\n",
    "iris_y_train = iris_y[indices[:-10]]\n",
    "iris_x_test = iris_x[indices[-10:]]\n",
    "iris_y_test = iris_y[indices[-10:]]\n",
    "clf = GaussianNB()## create a gaussian classifier\n",
    "clf.fit(iris_x_train, iris_y_train) ## fitting\n",
    "## result = clf.predict()\n",
    "iris_y_predict = clf.predict(iris_x_test)\n",
    "##Call the scoring method of the object to calculate the accuracy\n",
    "score = clf.score(iris_x_test, iris_y_test, sample_weight = None)\n",
    "print(f\"iris_y_predict = {iris_y_predict}\")\n",
    "print(f\"iris_y_test = {iris_y_test}\")\n",
    "print(f\"Accuracy: {score}\")"
   ]
  },
  {
   "cell_type": "code",
   "execution_count": null,
   "id": "ae65b5a0",
   "metadata": {},
   "outputs": [],
   "source": []
  }
 ],
 "metadata": {
  "kernelspec": {
   "display_name": "Python 3 (ipykernel)",
   "language": "python",
   "name": "python3"
  },
  "language_info": {
   "codemirror_mode": {
    "name": "ipython",
    "version": 3
   },
   "file_extension": ".py",
   "mimetype": "text/x-python",
   "name": "python",
   "nbconvert_exporter": "python",
   "pygments_lexer": "ipython3",
   "version": "3.10.9"
  }
 },
 "nbformat": 4,
 "nbformat_minor": 5
}
