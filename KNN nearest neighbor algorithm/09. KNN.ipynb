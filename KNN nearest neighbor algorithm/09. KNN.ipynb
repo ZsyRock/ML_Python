{
 "cells": [
  {
   "cell_type": "code",
   "execution_count": 4,
   "id": "61872029",
   "metadata": {},
   "outputs": [],
   "source": [
    "from sklearn import datasets ## Dataset of sklearn\n",
    "from sklearn.neighbors import KNeighborsClassifier ## KNN class of sklearn model\n",
    "import numpy as np\n",
    "\n",
    "np.random.seed(0) ## set the random seed, or the random result will depend on current time. With random seed we can calculate the same result everytime"
   ]
  },
  {
   "cell_type": "code",
   "execution_count": 21,
   "id": "c7b79597",
   "metadata": {},
   "outputs": [
    {
     "name": "stdout",
     "output_type": "stream",
     "text": [
      "[0 0 0 0 0 0 0 0 0 0 0 0 0 0 0 0 0 0 0 0 0 0 0 0 0 0 0 0 0 0 0 0 0 0 0 0 0\n",
      " 0 0 0 0 0 0 0 0 0 0 0 0 0 1 1 1 1 1 1 1 1 1 1 1 1 1 1 1 1 1 1 1 1 1 1 1 1\n",
      " 1 1 1 1 1 1 1 1 1 1 1 1 1 1 1 1 1 1 1 1 1 1 1 1 1 1 2 2 2 2 2 2 2 2 2 2 2\n",
      " 2 2 2 2 2 2 2 2 2 2 2 2 2 2 2 2 2 2 2 2 2 2 2 2 2 2 2 2 2 2 2 2 2 2 2 2 2\n",
      " 2 2]\n",
      "iris_y_predict = [0 2 1 0 2 2 2 1 2 1]\n",
      "iris_y_test = [0 2 1 0 2 2 2 1 2 1]\n",
      "accuracy is: 1.0\n"
     ]
    }
   ],
   "source": [
    "iris = datasets.load_iris() ## get iris dataset\n",
    "iris_x = iris.data ## data part\n",
    "iris_y = iris.target ## data target\n",
    "print(iris_y)\n",
    "\n",
    "## Now I'm going to split dataset to 140 and 10 as training and testing group. at the same time I use permutation to revceive a num to generate a randam list(here is the lenth of iris dataset which is 150)\n",
    "randomarr = np.random.permutation(len(iris_x))\n",
    "iris_x_train = iris_x[randomarr[:-10]]## training group data\n",
    "iris_y_train = iris_y[randomarr[:-10]]## training group label\n",
    "iris_x_test = iris_x[randomarr[-10:]]## testing group data\n",
    "iris_y_test = iris_y[randomarr[-10:]]## testing group label\n",
    "\n",
    "## Define a knn classifier object\n",
    "knn = KNeighborsClassifier()\n",
    "\n",
    "## Call the object's training method. It mainly receives two parameters: training data and its category label\n",
    "knn.fit(iris_x_train, iris_y_train)\n",
    "\n",
    "## Call the prediction method, mainly receiving one parameter: test data set\n",
    "iris_y_predict = knn.predict(iris_x_test)\n",
    "\n",
    "## Calculate the probability value predicted by each test sample. We do not use the probability value here, but in actual work, we may refer to the probability value to screen the results instead of directly using the given prediction label.\n",
    "probility = knn.predict_proba(iris_x_test)\n",
    "\n",
    "## Calculate the 5 closest points to the last test sample, and return data composed of the serial numbers of these samples.\n",
    "neighborpoint = knn.kneighbors([iris_x_test[-1]], 5)\n",
    "\n",
    "## Call the object's scoring method to calculate the accuracy\n",
    "score = knn.score(iris_x_test, iris_y_test, sample_weight = None)\n",
    "\n",
    "## output the result\n",
    "print(f\"iris_y_predict = {iris_y_predict}\")\n",
    "\n",
    "## Output the correct labels of the original test data set for easy comparison\n",
    "print(f\"iris_y_test = {iris_y_test}\")\n",
    "\n",
    "## output the accuracy result\n",
    "print(f'accuracy is: {score}')"
   ]
  },
  {
   "cell_type": "code",
   "execution_count": null,
   "id": "ae227c9e",
   "metadata": {},
   "outputs": [],
   "source": []
  }
 ],
 "metadata": {
  "kernelspec": {
   "display_name": "Python 3 (ipykernel)",
   "language": "python",
   "name": "python3"
  },
  "language_info": {
   "codemirror_mode": {
    "name": "ipython",
    "version": 3
   },
   "file_extension": ".py",
   "mimetype": "text/x-python",
   "name": "python",
   "nbconvert_exporter": "python",
   "pygments_lexer": "ipython3",
   "version": "3.10.10"
  }
 },
 "nbformat": 4,
 "nbformat_minor": 5
}
